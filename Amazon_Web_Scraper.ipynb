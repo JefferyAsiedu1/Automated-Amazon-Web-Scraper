{
  "cells": [
    {
      "cell_type": "code",
      "execution_count": 12,
      "id": "f236cbb9",
      "metadata": {
        "id": "f236cbb9"
      },
      "outputs": [],
      "source": [
        "# import needed libraries\n",
        "from bs4 import BeautifulSoup\n",
        "import requests\n",
        "import time\n",
        "import datetime\n",
        "\n",
        "import smtplib # used for sending emails"
      ]
    },
    {
      "cell_type": "code",
      "execution_count": 13,
      "id": "9b531b61",
      "metadata": {
        "id": "9b531b61",
        "outputId": "472f205d-dea5-49f3-83e4-7aea7f605559",
        "colab": {
          "base_uri": "https://localhost:8080/"
        }
      },
      "outputs": [
        {
          "output_type": "stream",
          "name": "stdout",
          "text": [
            "\n",
            "                  Funny Got Data MIS Data Systems Business Analyst T-Shirt\n",
            "                 \n",
            "\n",
            "                  $16.99\n",
            "                 \n"
          ]
        }
      ],
      "source": [
        "# Connect to the Website and pull in data\n",
        "#Get 'User-Agent' for my computer (https://httpbin.org/get)\n",
        "\n",
        "URL = 'https://www.amazon.com/Funny-Data-Systems-Business-Analyst/dp/B07FNW9FGJ/ref=sr_1_2?crid=22HY63JXN9LJD&dib=eyJ2IjoiMSJ9.80SWGgAumpHARJABH_TkJY3O6Fs7u7oeUFFcbDXozfPrHwL6u3hZXM3sYg_Oy3Mlnj3V7KZ5ygBzuOHOlakDqQUjFIxQdgd7zjbY2Y6lRq749gBeSy8gUwRPrNtn4OK1FHfZnfYdAlw8Pmpri00srFiMOMou-8oHGb2miGZlRL5KSE4AQUYqFZwZtc1VNNv78VDJ-YrA7FESNSSKb9C1whaXsqSgCYMO-UmxjOfhjtMY5OUcnLefVdcA6o-8afr4Lso65Srri2iMhAituxOVHL2IHOHPgxlFJ27ZANRrjWk.ZrTKNdhnHIhIR-TkHk-WXOnz-l03GtgheEPy7HQjbfo&dib_tag=se&keywords=Funny+Got+Data+MIS+Data+Systems+Business+Analyst+T-Shirt&qid=1714159446&sprefix=funny+got+data+mis+data+systems+business+analyst+t-shirt%2Caps%2C164&sr=8-2'\n",
        "\n",
        "headers = {\"User-Agent\": \"Mozilla/5.0 (Windows NT 10.0; Win64; x64) AppleWebKit/537.36 (KHTML, like Gecko) Chrome/124.0.0.0 Safari/537.36\", \"Accept-Encoding\":\"gzip, deflate\", \"Accept\":\"text/html,application/xhtml+xml,application/xml;q=0.9,*/*;q=0.8\", \"DNT\":\"1\",\"Connection\":\"close\", \"Upgrade-Insecure-Requests\":\"1\"}\n",
        "\n",
        "page = requests.get(URL, headers=headers)\n",
        "\n",
        "soup1 = BeautifulSoup(page.text, \"html\")\n",
        "\n",
        "soup2 = BeautifulSoup(soup1.prettify(), \"html\")\n",
        "\n",
        "title = soup2.find('span', id='productTitle').text\n",
        "\n",
        "price = soup2.find('span', class_ = 'aok-offscreen').text\n",
        "\n",
        "print(title)\n",
        "print(price)"
      ]
    },
    {
      "cell_type": "code",
      "execution_count": 14,
      "id": "b6f7d66e",
      "metadata": {
        "id": "b6f7d66e",
        "outputId": "9712a9d7-d6d9-405a-d76e-13115e0095de",
        "colab": {
          "base_uri": "https://localhost:8080/"
        }
      },
      "outputs": [
        {
          "output_type": "stream",
          "name": "stdout",
          "text": [
            "Funny Got Data MIS Data Systems Business Analyst T-Shirt\n",
            "16.99\n"
          ]
        }
      ],
      "source": [
        "# Clean up the data by removing WhiteSpaces and $ sign\n",
        "\n",
        "title = title.strip()\n",
        "price = price.strip()[1:]\n",
        "\n",
        "print(title)\n",
        "print(price)"
      ]
    },
    {
      "cell_type": "code",
      "execution_count": 15,
      "id": "4f021c23",
      "metadata": {
        "id": "4f021c23",
        "outputId": "34bb2b23-9031-443c-ec6e-7a20d660bd1a",
        "colab": {
          "base_uri": "https://localhost:8080/"
        }
      },
      "outputs": [
        {
          "output_type": "stream",
          "name": "stdout",
          "text": [
            "2024-04-26\n"
          ]
        }
      ],
      "source": [
        "# Creating a TimeStamp for when data was collected\n",
        "\n",
        "today = datetime.date.today()\n",
        "\n",
        "print(today)"
      ]
    },
    {
      "cell_type": "code",
      "execution_count": 16,
      "id": "14d703ca",
      "metadata": {
        "id": "14d703ca"
      },
      "outputs": [],
      "source": [
        "# Create CSV and write headers and data into the file\n",
        "\n",
        "import csv\n",
        "\n",
        "header = ['Title', 'Price', 'Date']\n",
        "data = [title, price, today]\n",
        "\n",
        "\n",
        "with open('AmznWebScraperData.csv', 'w', newline='', encoding='UTF8') as f:\n",
        "    writer = csv.writer(f)\n",
        "    writer.writerow(header)\n",
        "    writer.writerow(data)"
      ]
    },
    {
      "cell_type": "code",
      "execution_count": 28,
      "id": "d07eeb86",
      "metadata": {
        "id": "d07eeb86",
        "colab": {
          "base_uri": "https://localhost:8080/"
        },
        "outputId": "3c919528-6421-4e55-d566-7bedd64ff195"
      },
      "outputs": [
        {
          "output_type": "stream",
          "name": "stdout",
          "text": [
            "                                               Title  Price        Date\n",
            "0  Funny Got Data MIS Data Systems Business Analy...  16.99  2024-04-26\n",
            "1  Funny Got Data MIS Data Systems Business Analy...  16.99  2024-04-26\n",
            "2  Funny Got Data MIS Data Systems Business Analy...  16.99  2024-04-26\n",
            "3  Funny Got Data MIS Data Systems Business Analy...  16.99  2024-04-26\n",
            "4  Funny Got Data MIS Data Systems Business Analy...  16.99  2024-04-26\n"
          ]
        }
      ],
      "source": [
        "#Creating the data frame\n",
        "import pandas as pd\n",
        "\n",
        "df = pd.read_csv('/content/AmznWebScraperData.csv')\n",
        "\n",
        "print(df)"
      ]
    },
    {
      "cell_type": "code",
      "execution_count": 27,
      "id": "6b05c1eb",
      "metadata": {
        "id": "6b05c1eb"
      },
      "outputs": [],
      "source": [
        "#Appending data to the csv\n",
        "#a+ is used to append the data\n",
        "\n",
        "with open('AmznWebScraperData.csv', 'a+', newline='', encoding='UTF8') as f:\n",
        "    writer = csv.writer(f)\n",
        "    writer.writerow(data)"
      ]
    },
    {
      "cell_type": "code",
      "execution_count": 29,
      "id": "8e95b9e0",
      "metadata": {
        "id": "8e95b9e0"
      },
      "outputs": [],
      "source": [
        "#Combine all of the above code into a function\n",
        "\n",
        "\n",
        "def check_price():\n",
        "  URL = 'https://www.amazon.com/Funny-Data-Systems-Business-Analyst/dp/B07FNW9FGJ/ref=sr_1_3?dchild=1&keywords=data%2Banalyst%2Btshirt&qid=1626655184&sr=8-3&customId=B0752XJYNL&th=1'\n",
        "\n",
        "  headers = {\"User-Agent\": \"Mozilla/5.0 (Windows NT 10.0; Win64; x64) AppleWebKit/537.36 (KHTML, like Gecko) Chrome/124.0.0.0 Safari/537.36\", \"Accept-Encoding\":\"gzip, deflate\", \"Accept\":\"text/html,application/xhtml+xml,application/xml;q=0.9,*/*;q=0.8\", \"DNT\":\"1\",\"Connection\":\"close\", \"Upgrade-Insecure-Requests\":\"1\"}\n",
        "\n",
        "  page = requests.get(URL, headers=headers)\n",
        "\n",
        "  soup1 = BeautifulSoup(page.text, \"html\")\n",
        "\n",
        "  soup2 = BeautifulSoup(soup1.prettify(), \"html\")\n",
        "\n",
        "  title = soup2.find('span', id='productTitle').text\n",
        "\n",
        "  price = soup2.find('span', class_ = 'aok-offscreen').text\n",
        "\n",
        "  title = title.strip()\n",
        "  price = price.strip()[1:]\n",
        "\n",
        "  import datetime\n",
        "\n",
        "  today = datetime.date.today()\n",
        "\n",
        "  import csv\n",
        "\n",
        "  header = ['Title', 'Price', 'Date']\n",
        "  data = [title, price, today]\n",
        "\n",
        "  with open('AmznWebScraperData.csv', 'a+', newline='', encoding='UTF8') as f:\n",
        "        writer = csv.writer(f)\n",
        "        writer.writerow(data)\n",
        "\n",
        "#Send me an email if price drops below $15\n",
        "  if(price < 15):\n",
        "      send_mail()\n",
        "\n"
      ]
    },
    {
      "cell_type": "code",
      "execution_count": null,
      "id": "c72f2c4e",
      "metadata": {
        "id": "c72f2c4e"
      },
      "outputs": [],
      "source": [
        "# Runs check_price every 24hrs and inputs data into the CSV\n",
        "\n",
        "while(True):\n",
        "    check_price()\n",
        "    time.sleep(86400)"
      ]
    },
    {
      "cell_type": "code",
      "execution_count": 31,
      "id": "00af7126",
      "metadata": {
        "id": "00af7126",
        "colab": {
          "base_uri": "https://localhost:8080/"
        },
        "outputId": "37ceca59-e551-4ddf-801d-220f3c371ca5"
      },
      "outputs": [
        {
          "output_type": "stream",
          "name": "stdout",
          "text": [
            "                                               Title  Price        Date\n",
            "0  Funny Got Data MIS Data Systems Business Analy...  16.99  2024-04-26\n",
            "1  Funny Got Data MIS Data Systems Business Analy...  16.99  2024-04-26\n",
            "2  Funny Got Data MIS Data Systems Business Analy...  16.99  2024-04-26\n",
            "3  Funny Got Data MIS Data Systems Business Analy...  16.99  2024-04-26\n",
            "4  Funny Got Data MIS Data Systems Business Analy...  16.99  2024-04-26\n",
            "5  Funny Got Data MIS Data Systems Business Analy...  16.99  2024-04-26\n"
          ]
        }
      ],
      "source": [
        "import pandas as pd\n",
        "\n",
        "df = pd.read_csv('/content/AmznWebScraperData.csv')\n",
        "\n",
        "print(df)"
      ]
    },
    {
      "cell_type": "code",
      "execution_count": null,
      "id": "d14fce5f",
      "metadata": {
        "id": "d14fce5f"
      },
      "outputs": [],
      "source": [
        "# Send me an email when price changes\n",
        "\n",
        "def send_mail():\n",
        "    server = smtplib.SMTP_SSL('smtp.gmail.com',465)\n",
        "    server.ehlo()\n",
        "    #server.starttls()\n",
        "    server.ehlo()\n",
        "    server.login('jefferyasiedu@gmail.com','xPxAxSxSxWxOxRxDx')\n",
        "\n",
        "    subject = \"The Shirt you want is below $15! Buy Now or Lose your chance!\"\n",
        "    body = \"Hey Jeffery, This is the moment we have been waiting for. Now is your chance to pick up the shirt of your dreams. Don't mess it up! Link here: https://www.amazon.com/Funny-Data-Systems-Business-Analyst/dp/B07FNW9FGJ/ref=sr_1_3?dchild=1&keywords=data+analyst+tshirt&qid=1626655184&sr=8-3\"\n",
        "\n",
        "    msg = f\"Subject: {subject}\\n\\n{body}\"\n",
        "\n",
        "    server.sendmail(\n",
        "        'jefferyasiedu@gmail.com',\n",
        "        msg\n",
        "\n",
        "    )"
      ]
    }
  ],
  "metadata": {
    "kernelspec": {
      "display_name": "Python 3",
      "language": "python",
      "name": "python3"
    },
    "language_info": {
      "codemirror_mode": {
        "name": "ipython",
        "version": 3
      },
      "file_extension": ".py",
      "mimetype": "text/x-python",
      "name": "python",
      "nbconvert_exporter": "python",
      "pygments_lexer": "ipython3",
      "version": "3.8.8"
    },
    "colab": {
      "provenance": []
    }
  },
  "nbformat": 4,
  "nbformat_minor": 5
}